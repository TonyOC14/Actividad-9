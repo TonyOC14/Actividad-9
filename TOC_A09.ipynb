{
  "nbformat": 4,
  "nbformat_minor": 0,
  "metadata": {
    "colab": {
      "provenance": [],
      "authorship_tag": "ABX9TyPIwh7PjELPO2dXoheuSb66",
      "include_colab_link": true
    },
    "kernelspec": {
      "name": "python3",
      "display_name": "Python 3"
    },
    "language_info": {
      "name": "python"
    }
  },
  "cells": [
    {
      "cell_type": "markdown",
      "metadata": {
        "id": "view-in-github",
        "colab_type": "text"
      },
      "source": [
        "<a href=\"https://colab.research.google.com/github/TonyOC14/Actividad-9/blob/main/TOC_A09.ipynb\" target=\"_parent\"><img src=\"https://colab.research.google.com/assets/colab-badge.svg\" alt=\"Open In Colab\"/></a>"
      ]
    },
    {
      "cell_type": "markdown",
      "source": [
        "\n",
        "\n",
        "Realiza un programa en python que utilice el siguiente menu:\n",
        "\n",
        "MENU\n",
        "\n",
        "1.- Crear Diccionario\n",
        "\n",
        "2.- Imprimir Diccionario\n",
        "\n",
        "0.- Salir\n",
        "\n",
        "CREAR DICCIIONARIO: funcion que retorne un diccionario con los datos de basicos de un alumno, donde se pide {id,nombre (1 O 2) , appaterno,apmaterno, edad,sexo}, El diccionario se debe generar automaticmanete a partir de listas.\n",
        "\n",
        "IMPRIMIR DICCIONARIO: Funcion que reciba como parametro el diccionario, y le de una salida mostrando la informacion en forma de registro que se genero con el diccionario\n"
      ],
      "metadata": {
        "id": "pXS2_LuZjYNF"
      }
    },
    {
      "cell_type": "code",
      "execution_count": 2,
      "metadata": {
        "id": "wCttPaetjR2o"
      },
      "outputs": [],
      "source": [
        "import random\n",
        "from IPython.display import clear_output\n",
        "import time"
      ]
    },
    {
      "cell_type": "code",
      "source": [
        "def gendic():\n",
        "\n",
        "  nombres_hombres = [\"Alex\",\"Miguel\",\"Johnny\",\"Omar\",\"Daniel\",\"Kevin\",\"Marcus\",\"Bruno\",\"Jordi\",\"Alexander\",\"Juan\",\"Goku\",\"Oliver\",\"Satoru\",\"Itadori\",\"Tony\",\"Gru\",\"Jose\",\n",
        "                     \"Eduardo\",\"Raphael\",\"Valentin\",\"Cristiano\",\"Lionel\",\"Saitama\",\"Vegeta\",\"Gohan\",\"Ronaldo\",\"Franz\",\"Justin\",\"Theo\",\"Alberto\",\"Angel\",\"Sanji\",\"Zoro\"]\n",
        "  nombres_mujeres = [\"Bulma\",\"Angela\",\"Mia\",\"Julia\",\"Jaqueline\",\"Sofia\",\"Kim\",\"Aylin\",\"Camila\",\"Allison\",\"Romina\",\"Denisse\",\"Rocio\",\"Peyton\",\"Grecia\",\"Renee\",\"Alexia\",\"Camila\",\"Silvia\",\"Sara\",\"Gretel\",\"Ana\",\n",
        "                     \"Paulette\",\"Karina\",\"Julissa\",\"Antonella\",\"Dua\",\"Nuñez\",\"Adriana\",\"Andrea\",\"Anais\",\"Marla\",\"Lucia\",\"Rebeca\",\"Nami\",\"Robin\",\"Mayra\",\"Lexi\",\"Flor\"]\n",
        "  apellidos = [\"Beckenbauer\",\"Sins\",\"Elizalde\",\"Ozuna\",\"Nazario\",\"Messi\",\"Perez\",\"Ochoa\",\"Kardashian\",\"Smith\",\"Franklin\",\"Verlander\",\"Bieber\",\"Khalifa\",\"Rose\",\"Hernandez\",\"Putellas\",\"Morgan\",\"Gonzalez\",\"Lipa\",\n",
        "               \"Rashford\",\"Gojo\",\"Camacho\",\"Arreola\",\"Villa\",\"Ramirez\",\"Valdez\",\"Yepiz\",\"Mora\",\"Garcia\",\"Carrasco\",\"Monkey\",\"Carmona\",\"Alcantar\",\"Pippen\",\"Freeman\",\"Sanchez\",\"Gaucho\",\"Garnacho\",\"Shaw\",\"De gea\"]\n",
        "  dic={\"id\":\"\",\"Nombre\":\"\",\"Apellido materno\":\"\",\"Apellido paterno\":\"\",\"Apellido materno\":\"\",\"Sexo\":\"\"}\n",
        "  dic[\"id\"] = random.randint(300000, 399999)\n",
        "  sexo = random.randint(1,100)\n",
        "  nombre = random.randint(1,100)\n",
        "  if ((sexo % 2) == 0):\n",
        "    if ((nombre % 2) == 0):\n",
        "      dic[\"Nombre\"]=random.choice(nombres_hombres)\n",
        "      dic[\"Sexo\"]= \"Hombre\"\n",
        "    else:\n",
        "      dic[\"Nombre\"]=random.choices(nombres_hombres,k=2)\n",
        "      dic[\"Sexo\"]= \"Hombre\"\n",
        "  else:\n",
        "    if ((nombre % 2) == 0):\n",
        "      dic[\"Nombre\"]=random.choice(nombres_mujeres)\n",
        "      dic[\"Sexo\"]= \"Mujer\"\n",
        "    else:\n",
        "      dic[\"Nombre\"]=random.choices(nombres_mujeres,k=2)\n",
        "      dic[\"Sexo\"]= \"Mujer\"\n",
        "  dic[\"Apellido paterno\"]=random.choice(apellidos)\n",
        "  dic[\"Apellido materno\"]=random.choice(apellidos)\n",
        "\n",
        "\n",
        "  return dic"
      ],
      "metadata": {
        "id": "FgJSe8AJjdjE"
      },
      "execution_count": 1,
      "outputs": []
    },
    {
      "cell_type": "code",
      "source": [
        "op=1\n",
        "while op != 0:\n",
        "  print(\"M    E    N    U\")\n",
        "  print(\"1.- Crear Diccionario\")\n",
        "  print(\"2.- Imprimir Diccionario\")\n",
        "  print(\"0.- Salir\")\n",
        "  op=int(input(\"Ingrese la opcion deseada\"))\n",
        "\n",
        "  if op == 1:\n",
        "    dic=gendic()\n",
        "    clear_output()\n",
        "  elif op == 2:\n",
        "    print(dic)\n",
        "    input(\"Presione ENTER\")\n",
        "    clear_output()\n",
        "  elif op == 0:\n",
        "    print(\"Has seleccionado salir, hasta luego\")\n",
        "  else:\n",
        "    print(\"Ingrese una opcion valida\")\n",
        ""
      ],
      "metadata": {
        "colab": {
          "base_uri": "https://localhost:8080/"
        },
        "id": "3GG0aSXqjjmI",
        "outputId": "a038d34a-354f-4764-9c05-18706b27a5d5"
      },
      "execution_count": 17,
      "outputs": [
        {
          "output_type": "stream",
          "name": "stdout",
          "text": [
            "M    E    N    U\n",
            "1.- Crear Diccionario\n",
            "2.- Imprimir Diccionario\n",
            "0.- Salir\n",
            "Ingrese la opcion deseada0\n",
            "Has seleccionado salir, hasta luego\n"
          ]
        }
      ]
    }
  ]
}